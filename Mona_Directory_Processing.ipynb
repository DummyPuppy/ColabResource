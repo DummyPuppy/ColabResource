{
  "nbformat": 4,
  "nbformat_minor": 0,
  "metadata": {
    "colab": {
      "name": "Mona_Directory_Processing.ipynb",
      "provenance": [],
      "include_colab_link": true
    },
    "kernelspec": {
      "name": "python3",
      "display_name": "Python 3"
    },
    "language_info": {
      "name": "python"
    }
  },
  "cells": [
    {
      "cell_type": "markdown",
      "metadata": {
        "id": "view-in-github",
        "colab_type": "text"
      },
      "source": [
        "<a href=\"https://colab.research.google.com/github/DummyPuppy/ColabResource/blob/main/Mona_Directory_Processing.ipynb\" target=\"_parent\"><img src=\"https://colab.research.google.com/assets/colab-badge.svg\" alt=\"Open In Colab\"/></a>"
      ]
    },
    {
      "cell_type": "code",
      "execution_count": null,
      "metadata": {
        "id": "_UBM55m2A3OA"
      },
      "outputs": [],
      "source": [
        "import os"
      ]
    },
    {
      "cell_type": "code",
      "source": [
        "# Display your current working directory\n",
        "os.getcwd()"
      ],
      "metadata": {
        "colab": {
          "base_uri": "https://localhost:8080/",
          "height": 36
        },
        "id": "sNHp7VOSA_Ce",
        "outputId": "ef91326e-597c-481a-e47c-fa3e374201a7"
      },
      "execution_count": null,
      "outputs": [
        {
          "output_type": "execute_result",
          "data": {
            "text/plain": [
              "'/content'"
            ],
            "application/vnd.google.colaboratory.intrinsic+json": {
              "type": "string"
            }
          },
          "metadata": {},
          "execution_count": 5
        }
      ]
    },
    {
      "cell_type": "code",
      "source": [
        "# Liste contents in the current directory\n",
        "os.listdir()"
      ],
      "metadata": {
        "colab": {
          "base_uri": "https://localhost:8080/"
        },
        "id": "IHfTPmNoA_lJ",
        "outputId": "e1107f6b-7183-4d5f-8c35-fd63ac30148d"
      },
      "execution_count": null,
      "outputs": [
        {
          "output_type": "execute_result",
          "data": {
            "text/plain": [
              "['.config', 'sample_data']"
            ]
          },
          "metadata": {},
          "execution_count": 6
        }
      ]
    },
    {
      "cell_type": "code",
      "source": [
        "# change directory to the sample_data folder\n",
        "os.chdir('/content/sample_data')"
      ],
      "metadata": {
        "id": "rCY39Vu0BIWI"
      },
      "execution_count": null,
      "outputs": []
    },
    {
      "cell_type": "code",
      "source": [
        "os.listdir()"
      ],
      "metadata": {
        "colab": {
          "base_uri": "https://localhost:8080/"
        },
        "id": "fg05XDqLBYq0",
        "outputId": "c27f93cc-e876-452f-a4d9-1f763069d863"
      },
      "execution_count": null,
      "outputs": [
        {
          "output_type": "execute_result",
          "data": {
            "text/plain": [
              "['README.md',\n",
              " 'anscombe.json',\n",
              " 'mnist_train_small.csv',\n",
              " 'california_housing_test.csv',\n",
              " 'california_housing_train.csv',\n",
              " 'mnist_test.csv']"
            ]
          },
          "metadata": {},
          "execution_count": 5
        }
      ]
    },
    {
      "cell_type": "code",
      "source": [
        "# Go back up to the Content folder\n",
        "os.chdir('/content')"
      ],
      "metadata": {
        "id": "Ma6Zel0TBZq4"
      },
      "execution_count": null,
      "outputs": []
    },
    {
      "cell_type": "code",
      "source": [
        "os.listdir()"
      ],
      "metadata": {
        "colab": {
          "base_uri": "https://localhost:8080/"
        },
        "id": "RjRNWI5fBpcW",
        "outputId": "e67cc5a2-06e6-42cc-ce89-bd4410e886bd"
      },
      "execution_count": null,
      "outputs": [
        {
          "output_type": "execute_result",
          "data": {
            "text/plain": [
              "['.config', 'mona', 'this_for_mona.txt', 'sample_data']"
            ]
          },
          "metadata": {},
          "execution_count": 21
        }
      ]
    },
    {
      "cell_type": "code",
      "source": [
        "# Make new folder\n",
        "os.mkdir('mona')"
      ],
      "metadata": {
        "id": "qjeoxbToB0tT"
      },
      "execution_count": null,
      "outputs": []
    },
    {
      "cell_type": "code",
      "source": [
        "# Now refresh your content folder from the broweser \n",
        "os.chdir('mona')"
      ],
      "metadata": {
        "id": "4kzuhLyNCRzA"
      },
      "execution_count": null,
      "outputs": []
    },
    {
      "cell_type": "code",
      "source": [
        "f = open(\"this_for_mona.txt\", \"a\")\n",
        "f.write(\"Now the file has some content!\")\n",
        "f.close()"
      ],
      "metadata": {
        "id": "znmZRfLzB5kO"
      },
      "execution_count": null,
      "outputs": []
    },
    {
      "cell_type": "code",
      "source": [
        ""
      ],
      "metadata": {
        "id": "sK0y4kcuCm4N"
      },
      "execution_count": null,
      "outputs": []
    }
  ]
}