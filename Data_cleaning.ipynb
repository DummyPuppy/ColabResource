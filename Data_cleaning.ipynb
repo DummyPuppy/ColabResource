{
  "nbformat": 4,
  "nbformat_minor": 0,
  "metadata": {
    "colab": {
      "provenance": [],
      "authorship_tag": "ABX9TyOE5ZG2y5dLCdeLAshGekr8",
      "include_colab_link": true
    },
    "kernelspec": {
      "name": "python3",
      "display_name": "Python 3"
    },
    "language_info": {
      "name": "python"
    }
  },
  "cells": [
    {
      "cell_type": "markdown",
      "metadata": {
        "id": "view-in-github",
        "colab_type": "text"
      },
      "source": [
        "<a href=\"https://colab.research.google.com/github/DummyPuppy/ColabResource/blob/origin/Data_cleaning.ipynb\" target=\"_parent\"><img src=\"https://colab.research.google.com/assets/colab-badge.svg\" alt=\"Open In Colab\"/></a>"
      ]
    },
    {
      "cell_type": "code",
      "execution_count": 2,
      "metadata": {
        "id": "xBnQEaQyd1hq"
      },
      "outputs": [],
      "source": [
        "import pandas as pd\n"
      ]
    },
    {
      "cell_type": "code",
      "source": [
        "    data = pd.read_csv(\"sd254_users.csv\");\n",
        "    print(data.head(10))\n",
        "    print(data.columns)"
      ],
      "metadata": {
        "colab": {
          "base_uri": "https://localhost:8080/"
        },
        "id": "jke0kuDgeC5r",
        "outputId": "cbc7e40e-b0cb-46a9-a6d2-6a3f1cebbfb4"
      },
      "execution_count": 3,
      "outputs": [
        {
          "output_type": "stream",
          "name": "stdout",
          "text": [
            "           Person  Current Age  Retirement Age  Birth Year  Birth Month  \\\n",
            "0  Hazel Robinson           53              66        1966           11   \n",
            "1      Sasha Sadr           53              68        1966           12   \n",
            "2      Saanvi Lee           81              67        1938           11   \n",
            "3   Everlee Clark           63              63        1957            1   \n",
            "4   Kyle Peterson           43              70        1976            9   \n",
            "5     Aldo Walker           42              70        1977           10   \n",
            "6  Katalina Lewis           36              67        1983           12   \n",
            "7   Ryland Howard           26              67        1993           12   \n",
            "8    Kenya Cooper           81              66        1938            7   \n",
            "9   Sawyer Butler           34              60        1986            1   \n",
            "\n",
            "   Gender                   Address  Apartment           City State  Zipcode  \\\n",
            "0  Female             462 Rose Lane        NaN       La Verne    CA    91750   \n",
            "1  Female    3606 Federal Boulevard        NaN    Little Neck    NY    11363   \n",
            "2  Female           766 Third Drive        NaN    West Covina    CA    91792   \n",
            "3  Female          3 Madison Street        NaN       New York    NY    10069   \n",
            "4    Male  9620 Valley Stream Drive        NaN  San Francisco    CA    94117   \n",
            "5    Male             58 Birch Lane        6.0      Davenport    IA    52803   \n",
            "6  Female         5695 Fifth Street        1.0     Louisville    KY    40299   \n",
            "7    Male         1941 Ninth Street       10.0       Portland    OR    97214   \n",
            "8  Female          11 Spruce Avenue        NaN        Telford    PA    18969   \n",
            "9  Female          887 Grant Street        NaN      Abbeville    LA    70510   \n",
            "\n",
            "   Latitude  Longitude Per Capita Income - Zipcode Yearly Income - Person  \\\n",
            "0     34.15    -117.76                      $29278                 $59696   \n",
            "1     40.76     -73.74                      $37891                 $77254   \n",
            "2     34.02    -117.89                      $22681                 $33483   \n",
            "3     40.71     -73.99                     $163145                $249925   \n",
            "4     37.76    -122.44                      $53797                $109687   \n",
            "5     41.55     -90.60                      $20599                 $41997   \n",
            "6     38.22     -85.74                      $25258                 $51500   \n",
            "7     45.51    -122.64                      $26790                 $54623   \n",
            "8     40.32     -75.32                      $26273                 $42509   \n",
            "9     29.97     -92.12                      $18730                 $38190   \n",
            "\n",
            "  Total Debt  FICO Score  Num Credit Cards  \n",
            "0    $127613         787                 5  \n",
            "1    $191349         701                 5  \n",
            "2       $196         698                 5  \n",
            "3    $202328         722                 4  \n",
            "4    $183855         675                 1  \n",
            "5         $0         704                 3  \n",
            "6    $102286         672                 3  \n",
            "7    $114711         728                 1  \n",
            "8      $2895         755                 5  \n",
            "9     $81262         810                 1  \n",
            "Index(['Person', 'Current Age', 'Retirement Age', 'Birth Year', 'Birth Month',\n",
            "       'Gender', 'Address', 'Apartment', 'City', 'State', 'Zipcode',\n",
            "       'Latitude', 'Longitude', 'Per Capita Income - Zipcode',\n",
            "       'Yearly Income - Person', 'Total Debt', 'FICO Score',\n",
            "       'Num Credit Cards'],\n",
            "      dtype='object')\n"
          ]
        }
      ]
    },
    {
      "cell_type": "code",
      "source": [
        "selected_col = ['Person','Birth Year', 'Yearly Income - Person']\n",
        "small_set = data[selected_col]\n",
        "small_set.columns = ['User','BirthYear','YearlyIncome']\n",
        "small_set['Age'] = 2022-small_set['BirthYear']\n",
        "small_set['AnnualIncome'] = [int(x.replace('$','')) for  x in small_set['YearlyIncome']]\n",
        "print(small_set.head(10))\n"
      ],
      "metadata": {
        "colab": {
          "base_uri": "https://localhost:8080/"
        },
        "id": "aFBiYTm5eGsz",
        "outputId": "c787ffd7-8603-4b82-f503-d10dca407131"
      },
      "execution_count": 12,
      "outputs": [
        {
          "output_type": "stream",
          "name": "stdout",
          "text": [
            "             User  BirthYear YearlyIncome  Age  AnnualIncome\n",
            "0  Hazel Robinson       1966       $59696   56         59696\n",
            "1      Sasha Sadr       1966       $77254   56         77254\n",
            "2      Saanvi Lee       1938       $33483   84         33483\n",
            "3   Everlee Clark       1957      $249925   65        249925\n",
            "4   Kyle Peterson       1976      $109687   46        109687\n",
            "5     Aldo Walker       1977       $41997   45         41997\n",
            "6  Katalina Lewis       1983       $51500   39         51500\n",
            "7   Ryland Howard       1993       $54623   29         54623\n",
            "8    Kenya Cooper       1938       $42509   84         42509\n",
            "9   Sawyer Butler       1986       $38190   36         38190\n"
          ]
        },
        {
          "output_type": "stream",
          "name": "stderr",
          "text": [
            "/usr/local/lib/python3.7/dist-packages/ipykernel_launcher.py:4: SettingWithCopyWarning: \n",
            "A value is trying to be set on a copy of a slice from a DataFrame.\n",
            "Try using .loc[row_indexer,col_indexer] = value instead\n",
            "\n",
            "See the caveats in the documentation: https://pandas.pydata.org/pandas-docs/stable/user_guide/indexing.html#returning-a-view-versus-a-copy\n",
            "  after removing the cwd from sys.path.\n",
            "/usr/local/lib/python3.7/dist-packages/ipykernel_launcher.py:5: SettingWithCopyWarning: \n",
            "A value is trying to be set on a copy of a slice from a DataFrame.\n",
            "Try using .loc[row_indexer,col_indexer] = value instead\n",
            "\n",
            "See the caveats in the documentation: https://pandas.pydata.org/pandas-docs/stable/user_guide/indexing.html#returning-a-view-versus-a-copy\n",
            "  \"\"\"\n"
          ]
        }
      ]
    },
    {
      "cell_type": "code",
      "source": [
        "cleaned_data = small_set[['User','Age','AnnualIncome']]\n",
        "print(cleaned_data.info())\n",
        "print(cleaned_data)"
      ],
      "metadata": {
        "colab": {
          "base_uri": "https://localhost:8080/"
        },
        "id": "Ox5jSQtL6eZ7",
        "outputId": "3eb638f7-f52e-4604-a53a-9f03fb842e0b"
      },
      "execution_count": 16,
      "outputs": [
        {
          "output_type": "stream",
          "name": "stdout",
          "text": [
            "<class 'pandas.core.frame.DataFrame'>\n",
            "RangeIndex: 2000 entries, 0 to 1999\n",
            "Data columns (total 3 columns):\n",
            " #   Column        Non-Null Count  Dtype \n",
            "---  ------        --------------  ----- \n",
            " 0   User          2000 non-null   object\n",
            " 1   Age           2000 non-null   int64 \n",
            " 2   AnnualIncome  2000 non-null   int64 \n",
            "dtypes: int64(2), object(1)\n",
            "memory usage: 47.0+ KB\n",
            "None\n",
            "                   User  Age  AnnualIncome\n",
            "0        Hazel Robinson   56         59696\n",
            "1            Sasha Sadr   56         77254\n",
            "2            Saanvi Lee   84         33483\n",
            "3         Everlee Clark   65        249925\n",
            "4         Kyle Peterson   46        109687\n",
            "...                 ...  ...           ...\n",
            "1995       Jose Faraday   35         48010\n",
            "1996  Ximena Richardson   65         49378\n",
            "1997     Annika Russell   49         30942\n",
            "1998        Juelz Roman   68         54654\n",
            "1999       Kenia Harris   24         65909\n",
            "\n",
            "[2000 rows x 3 columns]\n"
          ]
        }
      ]
    },
    {
      "cell_type": "code",
      "source": [
        "cleaned_data.to_csv('cleaned_small_user_data.csv')"
      ],
      "metadata": {
        "id": "zbjyDC4D8AoX"
      },
      "execution_count": 17,
      "outputs": []
    }
  ]
}